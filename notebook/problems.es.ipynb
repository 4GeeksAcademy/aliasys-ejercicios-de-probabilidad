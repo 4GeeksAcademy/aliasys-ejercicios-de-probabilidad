{
 "cells": [
  {
   "cell_type": "markdown",
   "id": "a41f3622",
   "metadata": {},
   "source": [
    "# Ejercicios de probabilidad"
   ]
  },
  {
   "cell_type": "code",
   "execution_count": 1,
   "id": "3c05441e",
   "metadata": {},
   "outputs": [],
   "source": [
    "import random\n",
    "import numpy as np"
   ]
  },
  {
   "cell_type": "markdown",
   "id": "a6bdbd89",
   "metadata": {},
   "source": [
    "## Ejercicio 1 \n",
    "\n",
    "Dos dados se lanzan una vez y se observa el total obtenido. Usa una simulación para encontrar la probabilidad estimada de que la puntuación sea mayor a 7 o un número par. Una simulación es una repetición del mismo experimento multiples veces para observar su comportamiento:\n",
    "\n",
    "- Ejecuta el experimento 1000 veces (lanza 2 dados 1000 veces, y suma el número de ambos dados).\n",
    "- Lleva ua cuenta de los números y las veces que la suma fue mayor a 7 o un número par.\n",
    "- Divide el número del paso 2 entre el número de iteraciones(1000)."
   ]
  },
  {
   "cell_type": "code",
   "execution_count": 5,
   "id": "69ae413c",
   "metadata": {},
   "outputs": [
    {
     "data": {
      "text/plain": [
       "np.float64(0.67)"
      ]
     },
     "execution_count": 5,
     "metadata": {},
     "output_type": "execute_result"
    }
   ],
   "source": [
    "# Número de experimentos (lanzamientos)\n",
    "num_experiments = 1000\n",
    "\n",
    "# Simulamos los lanzamientos de dos dados (valores entre 1 y 6)\n",
    "dados_1 = np.random.randint(1, 7, size=num_experiments)\n",
    "dados_2 = np.random.randint(1, 7, size=num_experiments)\n",
    "\n",
    "# Sumamos los valores de ambos dados\n",
    "suma = dados_1 + dados_2\n",
    "\n",
    "# Verificamos la condición: suma > 7 o suma par\n",
    "condicion = (suma > 7) | (suma % 2 == 0)\n",
    "\n",
    "# Contamos cuántas veces se cumple la condición\n",
    "conteo = np.sum(condicion)\n",
    "\n",
    "# Calculamos la probabilidad\n",
    "probabilidad = conteo / num_experiments\n",
    "\n",
    "# Mostramos el resultado\n",
    "round(probabilidad, 2)\n"
   ]
  },
  {
   "cell_type": "markdown",
   "id": "5a1fe32c",
   "metadata": {},
   "source": [
    "# Conclusion:\n",
    "> La probabilidad de que la suma sea mayor a 7 o par es 0,67"
   ]
  },
  {
   "cell_type": "markdown",
   "id": "55732bca",
   "metadata": {},
   "source": [
    "## Ejercicio 2\n",
    "\n",
    "Una caja contiene 10 bolas blancas, 20 bolas rojas y 30 bolas verdes. Si tomamos 5 bolas de la caja reemplazándolas (tomando una bola, anotando el color y luego regresandola a la caja). Queremos saber la probabilidad de:\n",
    "\n",
    "1. Tomar 3 blancas y 2 rojas.\n",
    "2. Toas todas del mismo color.\n",
    "\n",
    "Ejecuta el experimento 1000 veces y calcula las probabilidades que mencionadas."
   ]
  },
  {
   "cell_type": "code",
   "execution_count": 6,
   "id": "23244d20",
   "metadata": {},
   "outputs": [
    {
     "data": {
      "text/plain": [
       "(np.float64(0.001), np.float64(0.034))"
      ]
     },
     "execution_count": 6,
     "metadata": {},
     "output_type": "execute_result"
    }
   ],
   "source": [
    "ball_box = {}\n",
    "\n",
    "# Crea la cajas con las bolas\n",
    "for i in range(60):\n",
    "    if i < 10:\n",
    "        ball_box[i] = \"White\"\n",
    "    elif (i > 9) and (i < 30):\n",
    "        ball_box[i] = \"Red\"\n",
    "    else:\n",
    "        ball_box[i] = \"Green\"\n",
    "\n",
    "# Número de experimentos\n",
    "num_experiments = 1000\n",
    "\n",
    "# Creamos la caja de bolas como un array de colores\n",
    "# 10 Blancas, 20 Rojas, 30 Verdes\n",
    "ball_box = np.array(['White'] * 10 + ['Red'] * 20 + ['Green'] * 30)\n",
    "\n",
    "# Realizamos todas las extracciones de una vez: (1000 x 5)\n",
    "extracciones = np.random.choice(ball_box, size=(num_experiments, 5), replace=True)\n",
    "\n",
    "# Contamos cuántas bolas blancas y rojas hay por extracción\n",
    "blancas = np.sum(extracciones == 'White', axis=1)\n",
    "rojas = np.sum(extracciones == 'Red', axis=1)\n",
    "\n",
    "# Condición: 3 blancas y 2 rojas\n",
    "cond_3_blancas_2_rojas = (blancas == 3) & (rojas == 2)\n",
    "\n",
    "# Condición: todas del mismo color (las 5 iguales)\n",
    "cond_todas_mismo_color = np.all(extracciones == extracciones[:, [0]], axis=1)\n",
    "\n",
    "# Calculamos probabilidades\n",
    "prob_3_blancas_2_rojas = np.mean(cond_3_blancas_2_rojas)\n",
    "prob_todas_mismo_color = np.mean(cond_todas_mismo_color)\n",
    "\n",
    "# Imprimimos los resultados redondeados\n",
    "round(prob_3_blancas_2_rojas, 3), round(prob_todas_mismo_color, 3)\n",
    "\n",
    "\n"
   ]
  },
  {
   "cell_type": "markdown",
   "id": "da28fe06",
   "metadata": {},
   "source": [
    "# Conclusion:\n",
    ">La probabilidad de tomar 3 blancas y 2 rojas: 0.001. La probabilidad de tomar todas del mismo color: 0.034"
   ]
  }
 ],
 "metadata": {
  "kernelspec": {
   "display_name": "Python 3",
   "language": "python",
   "name": "python3"
  },
  "language_info": {
   "codemirror_mode": {
    "name": "ipython",
    "version": 3
   },
   "file_extension": ".py",
   "mimetype": "text/x-python",
   "name": "python",
   "nbconvert_exporter": "python",
   "pygments_lexer": "ipython3",
   "version": "3.11.4"
  }
 },
 "nbformat": 4,
 "nbformat_minor": 5
}
