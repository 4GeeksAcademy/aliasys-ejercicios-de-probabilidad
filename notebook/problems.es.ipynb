{
 "cells": [
  {
   "cell_type": "markdown",
   "id": "a41f3622",
   "metadata": {},
   "source": [
    "# Ejercicios de probabilidad"
   ]
  },
  {
   "cell_type": "markdown",
   "id": "a6bdbd89",
   "metadata": {},
   "source": [
    "## Ejercicio 1 \n",
    "\n",
    "Dos dados se lanzan una vez y se observa el total obtenido. Usa una simulación para encontrar la probabilidad estimada de que la puntuación sea mayor a 7 o un número par. Una simulación es una repetición del mismo experimento multiples veces para observar su comportamiento:\n",
    "\n",
    "- Ejecuta el experimento 1000 veces (lanza 2 dados 1000 veces, y suma el número de ambos dados).\n",
    "- Lleva ua cuenta de los números y las veces que la suma fue mayor a 7 o un número par.\n",
    "- Divide el número del paso 2 entre el número de iteraciones(1000)."
   ]
  },
  {
   "cell_type": "code",
   "execution_count": 1,
   "id": "8939d892",
   "metadata": {},
   "outputs": [
    {
     "name": "stdout",
     "output_type": "stream",
     "text": [
      "La probabilidad estimada de que la suma sea mayor a 7 o un número par es: 0.692\n"
     ]
    }
   ],
   "source": [
    "import random\n",
    "\n",
    "# Número de experimentos (lanzamientos)\n",
    "num_experiments = 1000\n",
    "\n",
    "# Contador para las veces que se cumple la condición\n",
    "count = 0\n",
    "\n",
    "# Realizamos la simulación\n",
    "for _ in range(num_experiments):\n",
    "    # Simular el lanzamiento de dos dados (valores entre 1 y 6)\n",
    "    dice_1 = random.randint(1, 6)\n",
    "    dice_2 = random.randint(1, 6)\n",
    "    \n",
    "    # Sumar los dos valores de los dados\n",
    "    total = dice_1 + dice_2\n",
    "    \n",
    "    # Verificar si la suma es mayor a 7 o es un número par\n",
    "    if total > 7 or total % 2 == 0:\n",
    "        count += 1\n",
    "\n",
    "# Calcular la probabilidad\n",
    "probabilidad = count / num_experiments\n",
    "\n",
    "# Mostrar el resultado\n",
    "print(f\"La probabilidad estimada de que la suma sea mayor a 7 o un número par es: {probabilidad}\")\n"
   ]
  },
  {
   "cell_type": "markdown",
   "id": "55732bca",
   "metadata": {},
   "source": [
    "## Ejercicio 2\n",
    "\n",
    "Una caja contiene 10 bolas blancas, 20 bolas rojas y 30 bolas verdes. Si tomamos 5 bolas de la caja reemplazándolas (tomando una bola, anotando el color y luego regresandola a la caja). Queremos saber la probabilidad de:\n",
    "\n",
    "1. Tomar 3 blancas y 2 rojas.\n",
    "2. Toas todas del mismo color.\n",
    "\n",
    "Ejecuta el experimento 1000 veces y calcula las probabilidades que mencionadas."
   ]
  },
  {
   "cell_type": "code",
   "execution_count": null,
   "id": "24a8f433",
   "metadata": {},
   "outputs": [
    {
     "name": "stdout",
     "output_type": "stream",
     "text": [
      "Probabilidad de tomar 3 blancas y 2 rojas: 0.002\n",
      "Probabilidad de tomar todas del mismo color: 0.043\n"
     ]
    }
   ],
   "source": [
    "import random\n",
    "\n"
   ]
  },
  {
   "cell_type": "code",
   "execution_count": 3,
   "id": "23244d20",
   "metadata": {},
   "outputs": [
    {
     "name": "stdout",
     "output_type": "stream",
     "text": [
      "Probabilidad de tomar 3 blancas y 2 rojas: 0.002\n",
      "Probabilidad de tomar todas del mismo color: 0.044\n"
     ]
    }
   ],
   "source": [
    "ball_box = {}\n",
    "\n",
    "# Crea la cajas con las bolas\n",
    "for i in range(60):\n",
    "    if i < 10:\n",
    "        ball_box[i] = \"White\"\n",
    "    elif (i > 9) and (i < 30):\n",
    "        ball_box[i] = \"Red\"\n",
    "    else:\n",
    "        ball_box[i] = \"Green\"\n",
    "\n",
    "\n",
    "# Número de experimentos\n",
    "num_experiments = 1000\n",
    "\n",
    "# Contadores para las probabilidades\n",
    "count_3_blancas_2_rojas = 0\n",
    "count_todas_mismo_color = 0\n",
    "\n",
    "# Realizamos la simulación\n",
    "for _ in range(num_experiments):\n",
    "    # Extraemos 5 bolas con reemplazo (usamos random.choice() para elegir índices aleatorios)\n",
    "    extraccion = [ball_box[random.choice(list(ball_box.keys()))] for _ in range(5)]\n",
    "    \n",
    "    # Contamos cuántas bolas blancas y rojas hay en la extracción\n",
    "    blancas = extraccion.count('White')\n",
    "    rojas = extraccion.count('Red')\n",
    "    \n",
    "    # Verificamos si hay 3 bolas blancas y 2 bolas rojas\n",
    "    if blancas == 3 and rojas == 2:\n",
    "        count_3_blancas_2_rojas += 1\n",
    "    \n",
    "    # Verificamos si todas las bolas son del mismo color\n",
    "    if len(set(extraccion)) == 1:\n",
    "        count_todas_mismo_color += 1\n",
    "\n",
    "# Calculamos las probabilidades\n",
    "prob_3_blancas_2_rojas = count_3_blancas_2_rojas / num_experiments\n",
    "prob_todas_mismo_color = count_todas_mismo_color / num_experiments\n",
    "\n",
    "# Imprimimos los resultados\n",
    "print(f\"Probabilidad de tomar 3 blancas y 2 rojas: {prob_3_blancas_2_rojas}\")\n",
    "print(f\"Probabilidad de tomar todas del mismo color: {prob_todas_mismo_color}\")\n"
   ]
  }
 ],
 "metadata": {
  "kernelspec": {
   "display_name": "Python 3",
   "language": "python",
   "name": "python3"
  },
  "language_info": {
   "codemirror_mode": {
    "name": "ipython",
    "version": 3
   },
   "file_extension": ".py",
   "mimetype": "text/x-python",
   "name": "python",
   "nbconvert_exporter": "python",
   "pygments_lexer": "ipython3",
   "version": "3.11.4"
  }
 },
 "nbformat": 4,
 "nbformat_minor": 5
}
